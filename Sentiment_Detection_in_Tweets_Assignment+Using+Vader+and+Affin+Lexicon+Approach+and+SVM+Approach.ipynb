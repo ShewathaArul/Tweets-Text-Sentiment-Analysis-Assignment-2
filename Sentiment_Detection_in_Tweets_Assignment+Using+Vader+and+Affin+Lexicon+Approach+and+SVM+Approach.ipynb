{
 "cells": [
  {
   "cell_type": "markdown",
   "metadata": {},
   "source": [
    "# In This Method we are trying to Analyse using Lexicon Unsupervised Appraoches such as Vader, Affin and Finaly classification Algorith SVM to claasiify the Tweets"
   ]
  },
  {
   "cell_type": "code",
   "execution_count": 0,
   "metadata": {
    "colab": {},
    "colab_type": "code",
    "collapsed": true,
    "id": "BjPInenvHlDL"
   },
   "outputs": [],
   "source": [
    "from google.colab import drive\n",
    "drive.mount('/content/drive')"
   ]
  },
  {
   "cell_type": "code",
   "execution_count": 0,
   "metadata": {
    "colab": {},
    "colab_type": "code",
    "collapsed": true,
    "id": "hrX0eET2IOHW"
   },
   "outputs": [],
   "source": [
    "import numpy as np\n",
    "import pandas as pd\n",
    "import sklearn\n",
    "import seaborn as sns"
   ]
  },
  {
   "cell_type": "code",
   "execution_count": 0,
   "metadata": {
    "colab": {
     "base_uri": "https://localhost:8080/",
     "height": 51
    },
    "colab_type": "code",
    "id": "8-NGTOy8HsQv",
    "outputId": "7a8ce682-a267-45d5-b86f-1b2524530490"
   },
   "outputs": [
    {
     "name": "stdout",
     "output_type": "stream",
     "text": [
      "\u001b[?25l\r",
      "\u001b[K     |▎                               | 10kB 18.7MB/s eta 0:00:01\r",
      "\u001b[K     |▋                               | 20kB 1.8MB/s eta 0:00:01\r",
      "\u001b[K     |█                               | 30kB 2.6MB/s eta 0:00:01\r",
      "\u001b[K     |█▎                              | 40kB 1.7MB/s eta 0:00:01\r",
      "\u001b[K     |█▋                              | 51kB 2.1MB/s eta 0:00:01\r",
      "\u001b[K     |██                              | 61kB 2.5MB/s eta 0:00:01\r",
      "\u001b[K     |██▎                             | 71kB 2.9MB/s eta 0:00:01\r",
      "\u001b[K     |██▋                             | 81kB 3.2MB/s eta 0:00:01\r",
      "\u001b[K     |███                             | 92kB 3.6MB/s eta 0:00:01\r",
      "\u001b[K     |███▎                            | 102kB 2.8MB/s eta 0:00:01\r",
      "\u001b[K     |███▋                            | 112kB 2.8MB/s eta 0:00:01\r",
      "\u001b[K     |████                            | 122kB 2.8MB/s eta 0:00:01\r",
      "\u001b[K     |████▎                           | 133kB 2.8MB/s eta 0:00:01\r",
      "\u001b[K     |████▋                           | 143kB 2.8MB/s eta 0:00:01\r",
      "\u001b[K     |█████                           | 153kB 2.8MB/s eta 0:00:01\r",
      "\u001b[K     |█████▎                          | 163kB 2.8MB/s eta 0:00:01\r",
      "\u001b[K     |█████▋                          | 174kB 2.8MB/s eta 0:00:01\r",
      "\u001b[K     |██████                          | 184kB 2.8MB/s eta 0:00:01\r",
      "\u001b[K     |██████▎                         | 194kB 2.8MB/s eta 0:00:01\r",
      "\u001b[K     |██████▋                         | 204kB 2.8MB/s eta 0:00:01\r",
      "\u001b[K     |███████                         | 215kB 2.8MB/s eta 0:00:01\r",
      "\u001b[K     |███████▎                        | 225kB 2.8MB/s eta 0:00:01\r",
      "\u001b[K     |███████▋                        | 235kB 2.8MB/s eta 0:00:01\r",
      "\u001b[K     |████████                        | 245kB 2.8MB/s eta 0:00:01\r",
      "\u001b[K     |████████▎                       | 256kB 2.8MB/s eta 0:00:01\r",
      "\u001b[K     |████████▋                       | 266kB 2.8MB/s eta 0:00:01\r",
      "\u001b[K     |█████████                       | 276kB 2.8MB/s eta 0:00:01\r",
      "\u001b[K     |█████████▎                      | 286kB 2.8MB/s eta 0:00:01\r",
      "\u001b[K     |█████████▋                      | 296kB 2.8MB/s eta 0:00:01\r",
      "\u001b[K     |██████████                      | 307kB 2.8MB/s eta 0:00:01\r",
      "\u001b[K     |██████████▎                     | 317kB 2.8MB/s eta 0:00:01\r",
      "\u001b[K     |██████████▋                     | 327kB 2.8MB/s eta 0:00:01\r",
      "\u001b[K     |███████████                     | 337kB 2.8MB/s eta 0:00:01\r",
      "\u001b[K     |███████████▎                    | 348kB 2.8MB/s eta 0:00:01\r",
      "\u001b[K     |███████████▋                    | 358kB 2.8MB/s eta 0:00:01\r",
      "\u001b[K     |████████████                    | 368kB 2.8MB/s eta 0:00:01\r",
      "\u001b[K     |████████████▎                   | 378kB 2.8MB/s eta 0:00:01\r",
      "\u001b[K     |████████████▋                   | 389kB 2.8MB/s eta 0:00:01\r",
      "\u001b[K     |█████████████                   | 399kB 2.8MB/s eta 0:00:01\r",
      "\u001b[K     |█████████████▎                  | 409kB 2.8MB/s eta 0:00:01\r",
      "\u001b[K     |█████████████▋                  | 419kB 2.8MB/s eta 0:00:01\r",
      "\u001b[K     |██████████████                  | 430kB 2.8MB/s eta 0:00:01\r",
      "\u001b[K     |██████████████▎                 | 440kB 2.8MB/s eta 0:00:01\r",
      "\u001b[K     |██████████████▋                 | 450kB 2.8MB/s eta 0:00:01\r",
      "\u001b[K     |███████████████                 | 460kB 2.8MB/s eta 0:00:01\r",
      "\u001b[K     |███████████████▎                | 471kB 2.8MB/s eta 0:00:01\r",
      "\u001b[K     |███████████████▋                | 481kB 2.8MB/s eta 0:00:01\r",
      "\u001b[K     |████████████████                | 491kB 2.8MB/s eta 0:00:01\r",
      "\u001b[K     |████████████████▎               | 501kB 2.8MB/s eta 0:00:01\r",
      "\u001b[K     |████████████████▋               | 512kB 2.8MB/s eta 0:00:01\r",
      "\u001b[K     |█████████████████               | 522kB 2.8MB/s eta 0:00:01\r",
      "\u001b[K     |█████████████████▎              | 532kB 2.8MB/s eta 0:00:01\r",
      "\u001b[K     |█████████████████▋              | 542kB 2.8MB/s eta 0:00:01\r",
      "\u001b[K     |██████████████████              | 552kB 2.8MB/s eta 0:00:01\r",
      "\u001b[K     |██████████████████▎             | 563kB 2.8MB/s eta 0:00:01\r",
      "\u001b[K     |██████████████████▋             | 573kB 2.8MB/s eta 0:00:01\r",
      "\u001b[K     |███████████████████             | 583kB 2.8MB/s eta 0:00:01\r",
      "\u001b[K     |███████████████████▎            | 593kB 2.8MB/s eta 0:00:01\r",
      "\u001b[K     |███████████████████▋            | 604kB 2.8MB/s eta 0:00:01\r",
      "\u001b[K     |████████████████████            | 614kB 2.8MB/s eta 0:00:01\r",
      "\u001b[K     |████████████████████▎           | 624kB 2.8MB/s eta 0:00:01\r",
      "\u001b[K     |████████████████████▋           | 634kB 2.8MB/s eta 0:00:01\r",
      "\u001b[K     |█████████████████████           | 645kB 2.8MB/s eta 0:00:01\r",
      "\u001b[K     |█████████████████████▎          | 655kB 2.8MB/s eta 0:00:01\r",
      "\u001b[K     |█████████████████████▋          | 665kB 2.8MB/s eta 0:00:01\r",
      "\u001b[K     |██████████████████████          | 675kB 2.8MB/s eta 0:00:01\r",
      "\u001b[K     |██████████████████████▎         | 686kB 2.8MB/s eta 0:00:01\r",
      "\u001b[K     |██████████████████████▋         | 696kB 2.8MB/s eta 0:00:01\r",
      "\u001b[K     |███████████████████████         | 706kB 2.8MB/s eta 0:00:01\r",
      "\u001b[K     |███████████████████████▎        | 716kB 2.8MB/s eta 0:00:01\r",
      "\u001b[K     |███████████████████████▋        | 727kB 2.8MB/s eta 0:00:01\r",
      "\u001b[K     |████████████████████████        | 737kB 2.8MB/s eta 0:00:01\r",
      "\u001b[K     |████████████████████████▎       | 747kB 2.8MB/s eta 0:00:01\r",
      "\u001b[K     |████████████████████████▋       | 757kB 2.8MB/s eta 0:00:01\r",
      "\u001b[K     |████████████████████████▉       | 768kB 2.8MB/s eta 0:00:01\r",
      "\u001b[K     |█████████████████████████▏      | 778kB 2.8MB/s eta 0:00:01\r",
      "\u001b[K     |█████████████████████████▌      | 788kB 2.8MB/s eta 0:00:01\r",
      "\u001b[K     |█████████████████████████▉      | 798kB 2.8MB/s eta 0:00:01\r",
      "\u001b[K     |██████████████████████████▏     | 808kB 2.8MB/s eta 0:00:01\r",
      "\u001b[K     |██████████████████████████▌     | 819kB 2.8MB/s eta 0:00:01\r",
      "\u001b[K     |██████████████████████████▉     | 829kB 2.8MB/s eta 0:00:01\r",
      "\u001b[K     |███████████████████████████▏    | 839kB 2.8MB/s eta 0:00:01\r",
      "\u001b[K     |███████████████████████████▌    | 849kB 2.8MB/s eta 0:00:01\r",
      "\u001b[K     |███████████████████████████▉    | 860kB 2.8MB/s eta 0:00:01\r",
      "\u001b[K     |████████████████████████████▏   | 870kB 2.8MB/s eta 0:00:01\r",
      "\u001b[K     |████████████████████████████▌   | 880kB 2.8MB/s eta 0:00:01\r",
      "\u001b[K     |████████████████████████████▉   | 890kB 2.8MB/s eta 0:00:01\r",
      "\u001b[K     |█████████████████████████████▏  | 901kB 2.8MB/s eta 0:00:01\r",
      "\u001b[K     |█████████████████████████████▌  | 911kB 2.8MB/s eta 0:00:01\r",
      "\u001b[K     |█████████████████████████████▉  | 921kB 2.8MB/s eta 0:00:01\r",
      "\u001b[K     |██████████████████████████████▏ | 931kB 2.8MB/s eta 0:00:01\r",
      "\u001b[K     |██████████████████████████████▌ | 942kB 2.8MB/s eta 0:00:01\r",
      "\u001b[K     |██████████████████████████████▉ | 952kB 2.8MB/s eta 0:00:01\r",
      "\u001b[K     |███████████████████████████████▏| 962kB 2.8MB/s eta 0:00:01\r",
      "\u001b[K     |███████████████████████████████▌| 972kB 2.8MB/s eta 0:00:01\r",
      "\u001b[K     |███████████████████████████████▉| 983kB 2.8MB/s eta 0:00:01\r",
      "\u001b[K     |████████████████████████████████| 993kB 2.8MB/s \n",
      "\u001b[?25h  Building wheel for PyDrive (setup.py) ... \u001b[?25l\u001b[?25hdone\n"
     ]
    }
   ],
   "source": [
    "!pip install -U -q PyDrive\n",
    "from pydrive.auth import GoogleAuth\n",
    "from pydrive.drive import GoogleDrive\n",
    "from google.colab import auth\n",
    "from oauth2client.client import GoogleCredentials\n",
    "# Authenticate and create the PyDrive client.\n",
    "auth.authenticate_user()\n",
    "gauth = GoogleAuth()\n",
    "gauth.credentials = GoogleCredentials.get_application_default()\n",
    "drive = GoogleDrive(gauth)"
   ]
  },
  {
   "cell_type": "code",
   "execution_count": 0,
   "metadata": {
    "colab": {},
    "colab_type": "code",
    "collapsed": true,
    "id": "mnNS6IWPH0N7"
   },
   "outputs": [],
   "source": [
    "link = 'https://drive.google.com/open?id=1b4IhjFLjAK4rjV3E6_xQVAiTZPVkVpTa'"
   ]
  },
  {
   "cell_type": "code",
   "execution_count": 0,
   "metadata": {
    "colab": {
     "base_uri": "https://localhost:8080/",
     "height": 34
    },
    "colab_type": "code",
    "id": "8Gr_5XTBH9vA",
    "outputId": "76e13719-d469-4822-f861-7eed6a14172a"
   },
   "outputs": [
    {
     "name": "stdout",
     "output_type": "stream",
     "text": [
      "1b4IhjFLjAK4rjV3E6_xQVAiTZPVkVpTa\n"
     ]
    }
   ],
   "source": [
    "fluff, id = link.split('=')\n",
    "print (id)"
   ]
  },
  {
   "cell_type": "code",
   "execution_count": 0,
   "metadata": {
    "colab": {},
    "colab_type": "code",
    "collapsed": true,
    "id": "31db0vhvIBIR"
   },
   "outputs": [],
   "source": [
    "downloaded = drive.CreateFile({'id':id}) \n",
    "downloaded.GetContentFile('Tweet1.csv')  \n",
    "df = pd.read_csv('Tweet1.csv')"
   ]
  },
  {
   "cell_type": "code",
   "execution_count": 0,
   "metadata": {
    "colab": {
     "base_uri": "https://localhost:8080/",
     "height": 204
    },
    "colab_type": "code",
    "id": "aFL5Cw_gIRNv",
    "outputId": "9a6f7b85-d92f-4c31-ddc9-f71f1cfa8f63"
   },
   "outputs": [
    {
     "data": {
      "text/html": [
       "<div>\n",
       "<style scoped>\n",
       "    .dataframe tbody tr th:only-of-type {\n",
       "        vertical-align: middle;\n",
       "    }\n",
       "\n",
       "    .dataframe tbody tr th {\n",
       "        vertical-align: top;\n",
       "    }\n",
       "\n",
       "    .dataframe thead th {\n",
       "        text-align: right;\n",
       "    }\n",
       "</style>\n",
       "<table border=\"1\" class=\"dataframe\">\n",
       "  <thead>\n",
       "    <tr style=\"text-align: right;\">\n",
       "      <th></th>\n",
       "      <th>Tweet</th>\n",
       "      <th>Category</th>\n",
       "    </tr>\n",
       "  </thead>\n",
       "  <tbody>\n",
       "    <tr>\n",
       "      <th>0</th>\n",
       "      <td>Not Available</td>\n",
       "      <td>negative</td>\n",
       "    </tr>\n",
       "    <tr>\n",
       "      <th>1</th>\n",
       "      <td>IOS 9 App Transport Security. Mm need to check...</td>\n",
       "      <td>neutral</td>\n",
       "    </tr>\n",
       "    <tr>\n",
       "      <th>2</th>\n",
       "      <td>Mar if you have an iOS device, you should down...</td>\n",
       "      <td>neutral</td>\n",
       "    </tr>\n",
       "    <tr>\n",
       "      <th>3</th>\n",
       "      <td>@jimmie_vanagon my phone does not run on lates...</td>\n",
       "      <td>negative</td>\n",
       "    </tr>\n",
       "    <tr>\n",
       "      <th>4</th>\n",
       "      <td>Not sure how to start your publication on iOS?...</td>\n",
       "      <td>positive</td>\n",
       "    </tr>\n",
       "  </tbody>\n",
       "</table>\n",
       "</div>"
      ],
      "text/plain": [
       "                                               Tweet  Category\n",
       "0                                      Not Available  negative\n",
       "1  IOS 9 App Transport Security. Mm need to check...   neutral\n",
       "2  Mar if you have an iOS device, you should down...   neutral\n",
       "3  @jimmie_vanagon my phone does not run on lates...  negative\n",
       "4  Not sure how to start your publication on iOS?...  positive"
      ]
     },
     "execution_count": 6,
     "metadata": {
      "tags": []
     },
     "output_type": "execute_result"
    }
   ],
   "source": [
    "df.head()"
   ]
  },
  {
   "cell_type": "code",
   "execution_count": 0,
   "metadata": {
    "colab": {
     "base_uri": "https://localhost:8080/",
     "height": 1000
    },
    "colab_type": "code",
    "id": "Qkl-XksiKMaT",
    "outputId": "a4acdfde-3339-4314-fd34-ee95d90b2552"
   },
   "outputs": [
    {
     "data": {
      "text/html": [
       "<div>\n",
       "<style scoped>\n",
       "    .dataframe tbody tr th:only-of-type {\n",
       "        vertical-align: middle;\n",
       "    }\n",
       "\n",
       "    .dataframe tbody tr th {\n",
       "        vertical-align: top;\n",
       "    }\n",
       "\n",
       "    .dataframe thead th {\n",
       "        text-align: right;\n",
       "    }\n",
       "</style>\n",
       "<table border=\"1\" class=\"dataframe\">\n",
       "  <thead>\n",
       "    <tr style=\"text-align: right;\">\n",
       "      <th></th>\n",
       "      <th>Tweet</th>\n",
       "      <th>Category</th>\n",
       "    </tr>\n",
       "  </thead>\n",
       "  <tbody>\n",
       "    <tr>\n",
       "      <th>5930</th>\n",
       "      <td>Not Available</td>\n",
       "      <td>positive</td>\n",
       "    </tr>\n",
       "    <tr>\n",
       "      <th>5931</th>\n",
       "      <td>Scenes when Benzema walks out of tunnel tomorr...</td>\n",
       "      <td>positive</td>\n",
       "    </tr>\n",
       "    <tr>\n",
       "      <th>5932</th>\n",
       "      <td>Not Available</td>\n",
       "      <td>neutral</td>\n",
       "    </tr>\n",
       "    <tr>\n",
       "      <th>5933</th>\n",
       "      <td>@nananavy That &amp;amp; Zlatan insisting on playi...</td>\n",
       "      <td>neutral</td>\n",
       "    </tr>\n",
       "    <tr>\n",
       "      <th>5934</th>\n",
       "      <td>Watching a replay of the PSG / Lille match fro...</td>\n",
       "      <td>negative</td>\n",
       "    </tr>\n",
       "    <tr>\n",
       "      <th>5935</th>\n",
       "      <td>@Jon_LeGossip Any truth to Galatasaray having ...</td>\n",
       "      <td>neutral</td>\n",
       "    </tr>\n",
       "    <tr>\n",
       "      <th>5936</th>\n",
       "      <td>@Paulkurth that 3rd shot looks like its from a...</td>\n",
       "      <td>neutral</td>\n",
       "    </tr>\n",
       "    <tr>\n",
       "      <th>5937</th>\n",
       "      <td>@ACMilanNorway anyway, telling Zlatan he'll be...</td>\n",
       "      <td>negative</td>\n",
       "    </tr>\n",
       "    <tr>\n",
       "      <th>5938</th>\n",
       "      <td>7 more days till we start the campaign that wi...</td>\n",
       "      <td>positive</td>\n",
       "    </tr>\n",
       "    <tr>\n",
       "      <th>5939</th>\n",
       "      <td>The VP of France's refereeing union Laurent Ug...</td>\n",
       "      <td>positive</td>\n",
       "    </tr>\n",
       "    <tr>\n",
       "      <th>5940</th>\n",
       "      <td>Not Available</td>\n",
       "      <td>neutral</td>\n",
       "    </tr>\n",
       "    <tr>\n",
       "      <th>5941</th>\n",
       "      <td>OH NO, we supposedly pull out of Pedro deal as...</td>\n",
       "      <td>neutral</td>\n",
       "    </tr>\n",
       "    <tr>\n",
       "      <th>5942</th>\n",
       "      <td>Zlatan , will your perfumes make me perform ov...</td>\n",
       "      <td>positive</td>\n",
       "    </tr>\n",
       "    <tr>\n",
       "      <th>5943</th>\n",
       "      <td>Sun are so full of shit they say PSG trying to...</td>\n",
       "      <td>neutral</td>\n",
       "    </tr>\n",
       "    <tr>\n",
       "      <th>5944</th>\n",
       "      <td>Reserving the right to put Milan 3rd if Zlatan...</td>\n",
       "      <td>positive</td>\n",
       "    </tr>\n",
       "    <tr>\n",
       "      <th>5945</th>\n",
       "      <td>Zlatan is simply saving himself for the 2nd leg</td>\n",
       "      <td>positive</td>\n",
       "    </tr>\n",
       "    <tr>\n",
       "      <th>5946</th>\n",
       "      <td>@DaveEllis11 @klavierstuk but if Zlatan is ava...</td>\n",
       "      <td>positive</td>\n",
       "    </tr>\n",
       "    <tr>\n",
       "      <th>5947</th>\n",
       "      <td>@LiLHammy97 we may have the slimmest of chance...</td>\n",
       "      <td>neutral</td>\n",
       "    </tr>\n",
       "    <tr>\n",
       "      <th>5948</th>\n",
       "      <td>The top 4 strikers in the world are not for sa...</td>\n",
       "      <td>negative</td>\n",
       "    </tr>\n",
       "    <tr>\n",
       "      <th>5949</th>\n",
       "      <td>I would love to have cavani man. He's over sha...</td>\n",
       "      <td>positive</td>\n",
       "    </tr>\n",
       "    <tr>\n",
       "      <th>5950</th>\n",
       "      <td>@Jon_LeGossip I didn't think they will sell ei...</td>\n",
       "      <td>neutral</td>\n",
       "    </tr>\n",
       "    <tr>\n",
       "      <th>5951</th>\n",
       "      <td>Mourinho, Zlatan, Serie A - who are the winner...</td>\n",
       "      <td>positive</td>\n",
       "    </tr>\n",
       "    <tr>\n",
       "      <th>5952</th>\n",
       "      <td>Not Available</td>\n",
       "      <td>neutral</td>\n",
       "    </tr>\n",
       "    <tr>\n",
       "      <th>5953</th>\n",
       "      <td>Zlatan wears sunglasses so his eyes do not har...</td>\n",
       "      <td>positive</td>\n",
       "    </tr>\n",
       "    <tr>\n",
       "      <th>5954</th>\n",
       "      <td>@Keith_Russell I don't want it to be but it ma...</td>\n",
       "      <td>neutral</td>\n",
       "    </tr>\n",
       "    <tr>\n",
       "      <th>5955</th>\n",
       "      <td>We held talks with PSG on Thursday for Zlatan ...</td>\n",
       "      <td>neutral</td>\n",
       "    </tr>\n",
       "    <tr>\n",
       "      <th>5956</th>\n",
       "      <td>Not Available</td>\n",
       "      <td>positive</td>\n",
       "    </tr>\n",
       "    <tr>\n",
       "      <th>5957</th>\n",
       "      <td>Zlatan is looking mighty attractive at the mom...</td>\n",
       "      <td>neutral</td>\n",
       "    </tr>\n",
       "    <tr>\n",
       "      <th>5958</th>\n",
       "      <td>Wonder if Zlatan will be a United player come ...</td>\n",
       "      <td>positive</td>\n",
       "    </tr>\n",
       "    <tr>\n",
       "      <th>5959</th>\n",
       "      <td>Today United should have done better, the refe...</td>\n",
       "      <td>negative</td>\n",
       "    </tr>\n",
       "    <tr>\n",
       "      <th>5960</th>\n",
       "      <td>If there is a silver lining this shows LVG if ...</td>\n",
       "      <td>negative</td>\n",
       "    </tr>\n",
       "    <tr>\n",
       "      <th>5961</th>\n",
       "      <td>If Wenger is in Paris. Could it be for Cavani ...</td>\n",
       "      <td>neutral</td>\n",
       "    </tr>\n",
       "    <tr>\n",
       "      <th>5962</th>\n",
       "      <td>Ok ed let's do this, Zlatan, greizmann and Lap...</td>\n",
       "      <td>positive</td>\n",
       "    </tr>\n",
       "    <tr>\n",
       "      <th>5963</th>\n",
       "      <td>Goal level: Zlatan  90k by Friday? = Posting e...</td>\n",
       "      <td>neutral</td>\n",
       "    </tr>\n",
       "    <tr>\n",
       "      <th>5964</th>\n",
       "      <td>@YouAreMyArsenal Wouldn't surprise me if we en...</td>\n",
       "      <td>neutral</td>\n",
       "    </tr>\n",
       "    <tr>\n",
       "      <th>5965</th>\n",
       "      <td>Rib injury for Zlatan against Russia is a big ...</td>\n",
       "      <td>neutral</td>\n",
       "    </tr>\n",
       "    <tr>\n",
       "      <th>5966</th>\n",
       "      <td>Noooooo! I was hoping to see Zlatan being Zlat...</td>\n",
       "      <td>neutral</td>\n",
       "    </tr>\n",
       "  </tbody>\n",
       "</table>\n",
       "</div>"
      ],
      "text/plain": [
       "                                                  Tweet  Category\n",
       "5930                                      Not Available  positive\n",
       "5931  Scenes when Benzema walks out of tunnel tomorr...  positive\n",
       "5932                                      Not Available   neutral\n",
       "5933  @nananavy That &amp; Zlatan insisting on playi...   neutral\n",
       "5934  Watching a replay of the PSG / Lille match fro...  negative\n",
       "5935  @Jon_LeGossip Any truth to Galatasaray having ...   neutral\n",
       "5936  @Paulkurth that 3rd shot looks like its from a...   neutral\n",
       "5937  @ACMilanNorway anyway, telling Zlatan he'll be...  negative\n",
       "5938  7 more days till we start the campaign that wi...  positive\n",
       "5939  The VP of France's refereeing union Laurent Ug...  positive\n",
       "5940                                      Not Available   neutral\n",
       "5941  OH NO, we supposedly pull out of Pedro deal as...   neutral\n",
       "5942  Zlatan , will your perfumes make me perform ov...  positive\n",
       "5943  Sun are so full of shit they say PSG trying to...   neutral\n",
       "5944  Reserving the right to put Milan 3rd if Zlatan...  positive\n",
       "5945    Zlatan is simply saving himself for the 2nd leg  positive\n",
       "5946  @DaveEllis11 @klavierstuk but if Zlatan is ava...  positive\n",
       "5947  @LiLHammy97 we may have the slimmest of chance...   neutral\n",
       "5948  The top 4 strikers in the world are not for sa...  negative\n",
       "5949  I would love to have cavani man. He's over sha...  positive\n",
       "5950  @Jon_LeGossip I didn't think they will sell ei...   neutral\n",
       "5951  Mourinho, Zlatan, Serie A - who are the winner...  positive\n",
       "5952                                      Not Available   neutral\n",
       "5953  Zlatan wears sunglasses so his eyes do not har...  positive\n",
       "5954  @Keith_Russell I don't want it to be but it ma...   neutral\n",
       "5955  We held talks with PSG on Thursday for Zlatan ...   neutral\n",
       "5956                                      Not Available  positive\n",
       "5957  Zlatan is looking mighty attractive at the mom...   neutral\n",
       "5958  Wonder if Zlatan will be a United player come ...  positive\n",
       "5959  Today United should have done better, the refe...  negative\n",
       "5960  If there is a silver lining this shows LVG if ...  negative\n",
       "5961  If Wenger is in Paris. Could it be for Cavani ...   neutral\n",
       "5962  Ok ed let's do this, Zlatan, greizmann and Lap...  positive\n",
       "5963  Goal level: Zlatan  90k by Friday? = Posting e...   neutral\n",
       "5964  @YouAreMyArsenal Wouldn't surprise me if we en...   neutral\n",
       "5965  Rib injury for Zlatan against Russia is a big ...   neutral\n",
       "5966  Noooooo! I was hoping to see Zlatan being Zlat...   neutral"
      ]
     },
     "execution_count": 7,
     "metadata": {
      "tags": []
     },
     "output_type": "execute_result"
    }
   ],
   "source": [
    "df.iloc[5930:,]"
   ]
  },
  {
   "cell_type": "markdown",
   "metadata": {
    "colab_type": "text",
    "id": "Q4-qpAC4IWVN"
   },
   "source": [
    "# Lexicon Modeling"
   ]
  },
  {
   "cell_type": "code",
   "execution_count": 0,
   "metadata": {
    "colab": {},
    "colab_type": "code",
    "collapsed": true,
    "id": "F5PLoHGDMr5W"
   },
   "outputs": [],
   "source": [
    "df.dropna(inplace=True)"
   ]
  },
  {
   "cell_type": "code",
   "execution_count": 0,
   "metadata": {
    "colab": {},
    "colab_type": "code",
    "collapsed": true,
    "id": "QIgPVjDmMyTr"
   },
   "outputs": [],
   "source": [
    "blank = []\n",
    "\n",
    "for i,rev,cat in df.itertuples():\n",
    "  if type(rev) == str:\n",
    "    if rev.isspace():\n",
    "      blanks.append(i)"
   ]
  },
  {
   "cell_type": "code",
   "execution_count": 0,
   "metadata": {
    "colab": {
     "base_uri": "https://localhost:8080/",
     "height": 34
    },
    "colab_type": "code",
    "id": "PlCL1bazNszh",
    "outputId": "4624b6bf-310a-4125-d4e5-19251af4ea44"
   },
   "outputs": [
    {
     "data": {
      "text/plain": [
       "[]"
      ]
     },
     "execution_count": 10,
     "metadata": {
      "tags": []
     },
     "output_type": "execute_result"
    }
   ],
   "source": [
    "blank"
   ]
  },
  {
   "cell_type": "code",
   "execution_count": 0,
   "metadata": {
    "colab": {
     "base_uri": "https://localhost:8080/",
     "height": 85
    },
    "colab_type": "code",
    "id": "_LENckk7NuV3",
    "outputId": "a64cebac-2578-4672-e5b9-817eacec67e3"
   },
   "outputs": [
    {
     "data": {
      "text/plain": [
       "positive    2888\n",
       "neutral     2123\n",
       "negative     956\n",
       "Name: Category, dtype: int64"
      ]
     },
     "execution_count": 11,
     "metadata": {
      "tags": []
     },
     "output_type": "execute_result"
    }
   ],
   "source": [
    "df['Category'].value_counts()"
   ]
  },
  {
   "cell_type": "code",
   "execution_count": 0,
   "metadata": {
    "colab": {
     "base_uri": "https://localhost:8080/",
     "height": 85
    },
    "colab_type": "code",
    "id": "PRs0Jog9Odit",
    "outputId": "bbbed7db-6454-4c50-bc7b-b2a858976fb6"
   },
   "outputs": [
    {
     "data": {
      "text/plain": [
       "positive    2888\n",
       "neutral     2123\n",
       "negative     956\n",
       "Name: Category, dtype: int64"
      ]
     },
     "execution_count": 12,
     "metadata": {
      "tags": []
     },
     "output_type": "execute_result"
    }
   ],
   "source": [
    "df['Category'].value_counts()"
   ]
  },
  {
   "cell_type": "code",
   "execution_count": 0,
   "metadata": {
    "colab": {},
    "colab_type": "code",
    "collapsed": true,
    "id": "qNoMeY1KRY80"
   },
   "outputs": [],
   "source": []
  },
  {
   "cell_type": "markdown",
   "metadata": {
    "colab_type": "text",
    "id": "mttkKnWCSplO"
   },
   "source": [
    "# Import Nltk vader Lexicon file for Lexicon Analysis"
   ]
  },
  {
   "cell_type": "code",
   "execution_count": 0,
   "metadata": {
    "colab": {},
    "colab_type": "code",
    "collapsed": true,
    "id": "cp-GkQ5FTLy8"
   },
   "outputs": [],
   "source": [
    "import nltk"
   ]
  },
  {
   "cell_type": "code",
   "execution_count": 0,
   "metadata": {
    "colab": {
     "base_uri": "https://localhost:8080/",
     "height": 51
    },
    "colab_type": "code",
    "id": "OrbsYLznTNkT",
    "outputId": "002d9147-793b-4ff7-e20c-83ce324b83d3"
   },
   "outputs": [
    {
     "name": "stdout",
     "output_type": "stream",
     "text": [
      "[nltk_data] Downloading package vader_lexicon to /root/nltk_data...\n"
     ]
    },
    {
     "data": {
      "text/plain": [
       "True"
      ]
     },
     "execution_count": 14,
     "metadata": {
      "tags": []
     },
     "output_type": "execute_result"
    }
   ],
   "source": [
    "nltk.download('vader_lexicon')"
   ]
  },
  {
   "cell_type": "code",
   "execution_count": 0,
   "metadata": {
    "colab": {
     "base_uri": "https://localhost:8080/",
     "height": 71
    },
    "colab_type": "code",
    "id": "0FYOSAhYTWVY",
    "outputId": "52ab9ec4-6abe-4208-9585-e600d3719d2d"
   },
   "outputs": [
    {
     "name": "stderr",
     "output_type": "stream",
     "text": [
      "/usr/local/lib/python3.6/dist-packages/nltk/twitter/__init__.py:20: UserWarning: The twython library has not been installed. Some functionality from the twitter package will not be available.\n",
      "  warnings.warn(\"The twython library has not been installed. \"\n"
     ]
    }
   ],
   "source": [
    "from nltk.sentiment.vader import SentimentIntensityAnalyzer"
   ]
  },
  {
   "cell_type": "code",
   "execution_count": 0,
   "metadata": {
    "colab": {},
    "colab_type": "code",
    "collapsed": true,
    "id": "gHxktG4hTn5R"
   },
   "outputs": [],
   "source": [
    "sid = SentimentIntensityAnalyzer()"
   ]
  },
  {
   "cell_type": "markdown",
   "metadata": {
    "colab_type": "text",
    "id": "bX6balCoUtrP"
   },
   "source": [
    "Analyzing string of review with vader lexicon"
   ]
  },
  {
   "cell_type": "code",
   "execution_count": 0,
   "metadata": {
    "colab": {},
    "colab_type": "code",
    "collapsed": true,
    "id": "0cx2tF2vTsBC"
   },
   "outputs": [],
   "source": [
    "a = \"Not Available\""
   ]
  },
  {
   "cell_type": "code",
   "execution_count": 0,
   "metadata": {
    "colab": {},
    "colab_type": "code",
    "collapsed": true,
    "id": "fVz5puujUc4P"
   },
   "outputs": [],
   "source": [
    "sid.polarity_scores(a)"
   ]
  },
  {
   "cell_type": "markdown",
   "metadata": {
    "colab_type": "text",
    "id": "oUJx3dJkU6HG"
   },
   "source": [
    "We need to check the compound score which is 0.0 which means there is Negetivity in this text content"
   ]
  },
  {
   "cell_type": "code",
   "execution_count": 0,
   "metadata": {
    "colab": {},
    "colab_type": "code",
    "collapsed": true,
    "id": "1umgWT_xVRLm"
   },
   "outputs": [],
   "source": [
    "df['scores'] = df['Tweet'].apply(lambda Tweet: sid.polarity_scores(Tweet)) "
   ]
  },
  {
   "cell_type": "code",
   "execution_count": 0,
   "metadata": {
    "colab": {
     "base_uri": "https://localhost:8080/",
     "height": 204
    },
    "colab_type": "code",
    "id": "nw8-NuQLXSOW",
    "outputId": "9e37c0a2-af20-4714-acab-d98899cabb49"
   },
   "outputs": [
    {
     "data": {
      "text/html": [
       "<div>\n",
       "<style scoped>\n",
       "    .dataframe tbody tr th:only-of-type {\n",
       "        vertical-align: middle;\n",
       "    }\n",
       "\n",
       "    .dataframe tbody tr th {\n",
       "        vertical-align: top;\n",
       "    }\n",
       "\n",
       "    .dataframe thead th {\n",
       "        text-align: right;\n",
       "    }\n",
       "</style>\n",
       "<table border=\"1\" class=\"dataframe\">\n",
       "  <thead>\n",
       "    <tr style=\"text-align: right;\">\n",
       "      <th></th>\n",
       "      <th>Tweet</th>\n",
       "      <th>Category</th>\n",
       "      <th>scores</th>\n",
       "    </tr>\n",
       "  </thead>\n",
       "  <tbody>\n",
       "    <tr>\n",
       "      <th>0</th>\n",
       "      <td>Not Available</td>\n",
       "      <td>negative</td>\n",
       "      <td>{'neg': 0.0, 'neu': 1.0, 'pos': 0.0, 'compound...</td>\n",
       "    </tr>\n",
       "    <tr>\n",
       "      <th>1</th>\n",
       "      <td>IOS 9 App Transport Security. Mm need to check...</td>\n",
       "      <td>neutral</td>\n",
       "      <td>{'neg': 0.0, 'neu': 0.648, 'pos': 0.352, 'comp...</td>\n",
       "    </tr>\n",
       "    <tr>\n",
       "      <th>2</th>\n",
       "      <td>Mar if you have an iOS device, you should down...</td>\n",
       "      <td>neutral</td>\n",
       "      <td>{'neg': 0.0, 'neu': 1.0, 'pos': 0.0, 'compound...</td>\n",
       "    </tr>\n",
       "    <tr>\n",
       "      <th>3</th>\n",
       "      <td>@jimmie_vanagon my phone does not run on lates...</td>\n",
       "      <td>negative</td>\n",
       "      <td>{'neg': 0.114, 'neu': 0.886, 'pos': 0.0, 'comp...</td>\n",
       "    </tr>\n",
       "    <tr>\n",
       "      <th>4</th>\n",
       "      <td>Not sure how to start your publication on iOS?...</td>\n",
       "      <td>positive</td>\n",
       "      <td>{'neg': 0.081, 'neu': 0.828, 'pos': 0.091, 'co...</td>\n",
       "    </tr>\n",
       "  </tbody>\n",
       "</table>\n",
       "</div>"
      ],
      "text/plain": [
       "                                               Tweet  ...                                             scores\n",
       "0                                      Not Available  ...  {'neg': 0.0, 'neu': 1.0, 'pos': 0.0, 'compound...\n",
       "1  IOS 9 App Transport Security. Mm need to check...  ...  {'neg': 0.0, 'neu': 0.648, 'pos': 0.352, 'comp...\n",
       "2  Mar if you have an iOS device, you should down...  ...  {'neg': 0.0, 'neu': 1.0, 'pos': 0.0, 'compound...\n",
       "3  @jimmie_vanagon my phone does not run on lates...  ...  {'neg': 0.114, 'neu': 0.886, 'pos': 0.0, 'comp...\n",
       "4  Not sure how to start your publication on iOS?...  ...  {'neg': 0.081, 'neu': 0.828, 'pos': 0.091, 'co...\n",
       "\n",
       "[5 rows x 3 columns]"
      ]
     },
     "execution_count": 19,
     "metadata": {
      "tags": []
     },
     "output_type": "execute_result"
    }
   ],
   "source": [
    "df.head()"
   ]
  },
  {
   "cell_type": "code",
   "execution_count": 0,
   "metadata": {
    "colab": {},
    "colab_type": "code",
    "collapsed": true,
    "id": "8e_YN2PQXT6k"
   },
   "outputs": [],
   "source": [
    "df['compound'] = df['scores'].apply(lambda d:d['compound'])"
   ]
  },
  {
   "cell_type": "code",
   "execution_count": 0,
   "metadata": {
    "colab": {
     "base_uri": "https://localhost:8080/",
     "height": 204
    },
    "colab_type": "code",
    "id": "YcdSWrjRX3em",
    "outputId": "68e3f343-fe38-48c6-a8d5-598cdb496bf6"
   },
   "outputs": [
    {
     "data": {
      "text/html": [
       "<div>\n",
       "<style scoped>\n",
       "    .dataframe tbody tr th:only-of-type {\n",
       "        vertical-align: middle;\n",
       "    }\n",
       "\n",
       "    .dataframe tbody tr th {\n",
       "        vertical-align: top;\n",
       "    }\n",
       "\n",
       "    .dataframe thead th {\n",
       "        text-align: right;\n",
       "    }\n",
       "</style>\n",
       "<table border=\"1\" class=\"dataframe\">\n",
       "  <thead>\n",
       "    <tr style=\"text-align: right;\">\n",
       "      <th></th>\n",
       "      <th>Tweet</th>\n",
       "      <th>Category</th>\n",
       "      <th>scores</th>\n",
       "      <th>compound</th>\n",
       "      <th>cmp_score</th>\n",
       "    </tr>\n",
       "  </thead>\n",
       "  <tbody>\n",
       "    <tr>\n",
       "      <th>0</th>\n",
       "      <td>Not Available</td>\n",
       "      <td>negative</td>\n",
       "      <td>{'neg': 0.0, 'neu': 1.0, 'pos': 0.0, 'compound...</td>\n",
       "      <td>0.0000</td>\n",
       "      <td>neutral</td>\n",
       "    </tr>\n",
       "    <tr>\n",
       "      <th>1</th>\n",
       "      <td>IOS 9 App Transport Security. Mm need to check...</td>\n",
       "      <td>neutral</td>\n",
       "      <td>{'neg': 0.0, 'neu': 0.648, 'pos': 0.352, 'comp...</td>\n",
       "      <td>0.7650</td>\n",
       "      <td>positive</td>\n",
       "    </tr>\n",
       "    <tr>\n",
       "      <th>2</th>\n",
       "      <td>Mar if you have an iOS device, you should down...</td>\n",
       "      <td>neutral</td>\n",
       "      <td>{'neg': 0.0, 'neu': 1.0, 'pos': 0.0, 'compound...</td>\n",
       "      <td>0.0000</td>\n",
       "      <td>neutral</td>\n",
       "    </tr>\n",
       "    <tr>\n",
       "      <th>3</th>\n",
       "      <td>@jimmie_vanagon my phone does not run on lates...</td>\n",
       "      <td>negative</td>\n",
       "      <td>{'neg': 0.114, 'neu': 0.886, 'pos': 0.0, 'comp...</td>\n",
       "      <td>-0.4019</td>\n",
       "      <td>negative</td>\n",
       "    </tr>\n",
       "    <tr>\n",
       "      <th>4</th>\n",
       "      <td>Not sure how to start your publication on iOS?...</td>\n",
       "      <td>positive</td>\n",
       "      <td>{'neg': 0.081, 'neu': 0.828, 'pos': 0.091, 'co...</td>\n",
       "      <td>0.0613</td>\n",
       "      <td>positive</td>\n",
       "    </tr>\n",
       "  </tbody>\n",
       "</table>\n",
       "</div>"
      ],
      "text/plain": [
       "                                               Tweet  ... cmp_score\n",
       "0                                      Not Available  ...   neutral\n",
       "1  IOS 9 App Transport Security. Mm need to check...  ...  positive\n",
       "2  Mar if you have an iOS device, you should down...  ...   neutral\n",
       "3  @jimmie_vanagon my phone does not run on lates...  ...  negative\n",
       "4  Not sure how to start your publication on iOS?...  ...  positive\n",
       "\n",
       "[5 rows x 5 columns]"
      ]
     },
     "execution_count": 22,
     "metadata": {
      "tags": []
     },
     "output_type": "execute_result"
    }
   ],
   "source": [
    "df.head()"
   ]
  },
  {
   "cell_type": "code",
   "execution_count": 0,
   "metadata": {
    "colab": {},
    "colab_type": "code",
    "collapsed": true,
    "id": "Q8fRjU5QcxYH"
   },
   "outputs": [],
   "source": [
    "df['cmp_score'] = df['compound'].apply(lambda score: 'positive' if score > 0 else ('neutral' if score == 0 else 'negative'))"
   ]
  },
  {
   "cell_type": "code",
   "execution_count": 0,
   "metadata": {
    "colab": {
     "base_uri": "https://localhost:8080/",
     "height": 204
    },
    "colab_type": "code",
    "id": "qCjaD7wafJvb",
    "outputId": "ec77734e-39f5-4c23-fbd8-bfe8fd1e508c"
   },
   "outputs": [
    {
     "data": {
      "text/html": [
       "<div>\n",
       "<style scoped>\n",
       "    .dataframe tbody tr th:only-of-type {\n",
       "        vertical-align: middle;\n",
       "    }\n",
       "\n",
       "    .dataframe tbody tr th {\n",
       "        vertical-align: top;\n",
       "    }\n",
       "\n",
       "    .dataframe thead th {\n",
       "        text-align: right;\n",
       "    }\n",
       "</style>\n",
       "<table border=\"1\" class=\"dataframe\">\n",
       "  <thead>\n",
       "    <tr style=\"text-align: right;\">\n",
       "      <th></th>\n",
       "      <th>Tweet</th>\n",
       "      <th>Category</th>\n",
       "      <th>scores</th>\n",
       "      <th>compound</th>\n",
       "      <th>cmp_score</th>\n",
       "    </tr>\n",
       "  </thead>\n",
       "  <tbody>\n",
       "    <tr>\n",
       "      <th>0</th>\n",
       "      <td>Not Available</td>\n",
       "      <td>negative</td>\n",
       "      <td>{'neg': 0.0, 'neu': 1.0, 'pos': 0.0, 'compound...</td>\n",
       "      <td>0.0000</td>\n",
       "      <td>neutral</td>\n",
       "    </tr>\n",
       "    <tr>\n",
       "      <th>1</th>\n",
       "      <td>IOS 9 App Transport Security. Mm need to check...</td>\n",
       "      <td>neutral</td>\n",
       "      <td>{'neg': 0.0, 'neu': 0.648, 'pos': 0.352, 'comp...</td>\n",
       "      <td>0.7650</td>\n",
       "      <td>positive</td>\n",
       "    </tr>\n",
       "    <tr>\n",
       "      <th>2</th>\n",
       "      <td>Mar if you have an iOS device, you should down...</td>\n",
       "      <td>neutral</td>\n",
       "      <td>{'neg': 0.0, 'neu': 1.0, 'pos': 0.0, 'compound...</td>\n",
       "      <td>0.0000</td>\n",
       "      <td>neutral</td>\n",
       "    </tr>\n",
       "    <tr>\n",
       "      <th>3</th>\n",
       "      <td>@jimmie_vanagon my phone does not run on lates...</td>\n",
       "      <td>negative</td>\n",
       "      <td>{'neg': 0.114, 'neu': 0.886, 'pos': 0.0, 'comp...</td>\n",
       "      <td>-0.4019</td>\n",
       "      <td>negative</td>\n",
       "    </tr>\n",
       "    <tr>\n",
       "      <th>4</th>\n",
       "      <td>Not sure how to start your publication on iOS?...</td>\n",
       "      <td>positive</td>\n",
       "      <td>{'neg': 0.081, 'neu': 0.828, 'pos': 0.091, 'co...</td>\n",
       "      <td>0.0613</td>\n",
       "      <td>positive</td>\n",
       "    </tr>\n",
       "  </tbody>\n",
       "</table>\n",
       "</div>"
      ],
      "text/plain": [
       "                                               Tweet  ... cmp_score\n",
       "0                                      Not Available  ...   neutral\n",
       "1  IOS 9 App Transport Security. Mm need to check...  ...  positive\n",
       "2  Mar if you have an iOS device, you should down...  ...   neutral\n",
       "3  @jimmie_vanagon my phone does not run on lates...  ...  negative\n",
       "4  Not sure how to start your publication on iOS?...  ...  positive\n",
       "\n",
       "[5 rows x 5 columns]"
      ]
     },
     "execution_count": 23,
     "metadata": {
      "tags": []
     },
     "output_type": "execute_result"
    }
   ],
   "source": [
    "df.head()"
   ]
  },
  {
   "cell_type": "code",
   "execution_count": 0,
   "metadata": {
    "colab": {},
    "colab_type": "code",
    "collapsed": true,
    "id": "qitVCDW9fLnR"
   },
   "outputs": [],
   "source": [
    "from sklearn.metrics import accuracy_score,classification_report,confusion_matrix"
   ]
  },
  {
   "cell_type": "code",
   "execution_count": 0,
   "metadata": {
    "colab": {
     "base_uri": "https://localhost:8080/",
     "height": 34
    },
    "colab_type": "code",
    "id": "dCKfcmw5f878",
    "outputId": "fea541ee-0c93-4b15-b160-d4856c581601"
   },
   "outputs": [
    {
     "data": {
      "text/plain": [
       "0.48131389307859895"
      ]
     },
     "execution_count": 25,
     "metadata": {
      "tags": []
     },
     "output_type": "execute_result"
    }
   ],
   "source": [
    "accuracy_score(df['Category'],df['cmp_score'])"
   ]
  },
  {
   "cell_type": "code",
   "execution_count": 0,
   "metadata": {
    "colab": {
     "base_uri": "https://localhost:8080/",
     "height": 187
    },
    "colab_type": "code",
    "id": "YiFmpmrfgnjq",
    "outputId": "0801a8d2-4e1d-4e5b-cba1-a2fb25c44e75"
   },
   "outputs": [
    {
     "name": "stdout",
     "output_type": "stream",
     "text": [
      "              precision    recall  f1-score   support\n",
      "\n",
      "    negative       0.35      0.48      0.41       956\n",
      "     neutral       0.41      0.38      0.39      2123\n",
      "    positive       0.60      0.55      0.58      2888\n",
      "\n",
      "    accuracy                           0.48      5967\n",
      "   macro avg       0.45      0.47      0.46      5967\n",
      "weighted avg       0.49      0.48      0.48      5967\n",
      "\n"
     ]
    }
   ],
   "source": [
    "print(classification_report(df['Category'],df['cmp_score']))"
   ]
  },
  {
   "cell_type": "markdown",
   "metadata": {
    "colab_type": "text",
    "id": "-jkES7Ept0q3"
   },
   "source": [
    "# Classification using SVC"
   ]
  },
  {
   "cell_type": "code",
   "execution_count": 0,
   "metadata": {
    "colab": {},
    "colab_type": "code",
    "collapsed": true,
    "id": "IWz8QeYjt8CX"
   },
   "outputs": [],
   "source": [
    "from sklearn.model_selection import train_test_split"
   ]
  },
  {
   "cell_type": "code",
   "execution_count": 0,
   "metadata": {
    "colab": {},
    "colab_type": "code",
    "collapsed": true,
    "id": "UZNqiW5iumwT"
   },
   "outputs": [],
   "source": [
    "X = df['Tweet']\n",
    "y = df['Category']"
   ]
  },
  {
   "cell_type": "code",
   "execution_count": 0,
   "metadata": {
    "colab": {
     "base_uri": "https://localhost:8080/",
     "height": 34
    },
    "colab_type": "code",
    "id": "K8QS3wCAYS25",
    "outputId": "da1a6f1c-0a3d-4d02-ac46-ef587ac580e4"
   },
   "outputs": [
    {
     "data": {
      "text/plain": [
       "(5967,)"
      ]
     },
     "execution_count": 29,
     "metadata": {
      "tags": []
     },
     "output_type": "execute_result"
    }
   ],
   "source": [
    "X.shape\n",
    "y.shape"
   ]
  },
  {
   "cell_type": "code",
   "execution_count": 0,
   "metadata": {
    "colab": {},
    "colab_type": "code",
    "collapsed": true,
    "id": "rGWwlpJoYdGl"
   },
   "outputs": [],
   "source": [
    "X_train,X_test,y_train,y_test = train_test_split(X,y,test_size=0.3,random_state=42)"
   ]
  },
  {
   "cell_type": "markdown",
   "metadata": {
    "colab_type": "text",
    "id": "vqNWSpAwaQ4K"
   },
   "source": [
    "# Importing TDFIDF Vectorizer and LinearSVC in Pipeline object using Sklearn"
   ]
  },
  {
   "cell_type": "code",
   "execution_count": 0,
   "metadata": {
    "colab": {},
    "colab_type": "code",
    "collapsed": true,
    "id": "nwM2SDMqZK0x"
   },
   "outputs": [],
   "source": [
    "from sklearn.pipeline import Pipeline\n",
    "from sklearn.feature_extraction.text import TfidfVectorizer\n",
    "from sklearn.svm import LinearSVC"
   ]
  },
  {
   "cell_type": "code",
   "execution_count": 0,
   "metadata": {
    "colab": {},
    "colab_type": "code",
    "collapsed": true,
    "id": "C7GMpkCYagtR"
   },
   "outputs": [],
   "source": [
    "text_clf = Pipeline([('tfidf',TfidfVectorizer()),\n",
    "                    ('clf',LinearSVC())])"
   ]
  },
  {
   "cell_type": "code",
   "execution_count": 0,
   "metadata": {
    "colab": {
     "base_uri": "https://localhost:8080/",
     "height": 34
    },
    "colab_type": "code",
    "id": "ZLtdh9wNbUj5",
    "outputId": "aebc97a7-0656-490c-fa4e-692fec596d96"
   },
   "outputs": [
    {
     "data": {
      "text/plain": [
       "(4176,)"
      ]
     },
     "execution_count": 40,
     "metadata": {
      "tags": []
     },
     "output_type": "execute_result"
    }
   ],
   "source": [
    "X_train.shape"
   ]
  },
  {
   "cell_type": "code",
   "execution_count": 0,
   "metadata": {
    "colab": {
     "base_uri": "https://localhost:8080/",
     "height": 34
    },
    "colab_type": "code",
    "id": "B1GzOkvJbfKL",
    "outputId": "8bb30178-d1ce-4513-9bac-28524e36b030"
   },
   "outputs": [
    {
     "data": {
      "text/plain": [
       "(4176,)"
      ]
     },
     "execution_count": 41,
     "metadata": {
      "tags": []
     },
     "output_type": "execute_result"
    }
   ],
   "source": [
    "y_train.shape"
   ]
  },
  {
   "cell_type": "code",
   "execution_count": 0,
   "metadata": {
    "colab": {
     "base_uri": "https://localhost:8080/",
     "height": 374
    },
    "colab_type": "code",
    "id": "jm_QNEKqbDU4",
    "outputId": "b9532ee7-ceaf-43a9-e5b7-c2e762acf0db"
   },
   "outputs": [
    {
     "data": {
      "text/plain": [
       "Pipeline(memory=None,\n",
       "         steps=[('tfidf',\n",
       "                 TfidfVectorizer(analyzer='word', binary=False,\n",
       "                                 decode_error='strict',\n",
       "                                 dtype=<class 'numpy.float64'>,\n",
       "                                 encoding='utf-8', input='content',\n",
       "                                 lowercase=True, max_df=1.0, max_features=None,\n",
       "                                 min_df=1, ngram_range=(1, 1), norm='l2',\n",
       "                                 preprocessor=None, smooth_idf=True,\n",
       "                                 stop_words=None, strip_accents=None,\n",
       "                                 sublinear_tf=False,\n",
       "                                 token_pattern='(?u)\\\\b\\\\w\\\\w+\\\\b',\n",
       "                                 tokenizer=None, use_idf=True,\n",
       "                                 vocabulary=None)),\n",
       "                ('clf',\n",
       "                 LinearSVC(C=1.0, class_weight=None, dual=True,\n",
       "                           fit_intercept=True, intercept_scaling=1,\n",
       "                           loss='squared_hinge', max_iter=1000,\n",
       "                           multi_class='ovr', penalty='l2', random_state=None,\n",
       "                           tol=0.0001, verbose=0))],\n",
       "         verbose=False)"
      ]
     },
     "execution_count": 42,
     "metadata": {
      "tags": []
     },
     "output_type": "execute_result"
    }
   ],
   "source": [
    "text_clf.fit(X_train,y_train)"
   ]
  },
  {
   "cell_type": "code",
   "execution_count": 0,
   "metadata": {
    "colab": {},
    "colab_type": "code",
    "collapsed": true,
    "id": "kTCkVc0Jb3fy"
   },
   "outputs": [],
   "source": [
    "predictions = text_clf.predict(X_test)"
   ]
  },
  {
   "cell_type": "code",
   "execution_count": 0,
   "metadata": {
    "colab": {
     "base_uri": "https://localhost:8080/",
     "height": 187
    },
    "colab_type": "code",
    "id": "ihH99z8ZbPiT",
    "outputId": "5cce9338-3a1b-4967-fd84-7070b5f85281"
   },
   "outputs": [
    {
     "name": "stdout",
     "output_type": "stream",
     "text": [
      "              precision    recall  f1-score   support\n",
      "\n",
      "    negative       0.49      0.32      0.39       282\n",
      "     neutral       0.49      0.42      0.45       640\n",
      "    positive       0.63      0.77      0.69       869\n",
      "\n",
      "    accuracy                           0.57      1791\n",
      "   macro avg       0.53      0.50      0.51      1791\n",
      "weighted avg       0.56      0.57      0.56      1791\n",
      "\n"
     ]
    }
   ],
   "source": [
    "print(classification_report(y_test,predictions))"
   ]
  },
  {
   "cell_type": "code",
   "execution_count": 0,
   "metadata": {
    "colab": {
     "base_uri": "https://localhost:8080/",
     "height": 34
    },
    "colab_type": "code",
    "id": "V7nSfEgNc0F0",
    "outputId": "22b3606d-dda4-4397-99c3-b4a9724bf11e"
   },
   "outputs": [
    {
     "data": {
      "text/plain": [
       "0.5717476270240089"
      ]
     },
     "execution_count": 46,
     "metadata": {
      "tags": []
     },
     "output_type": "execute_result"
    }
   ],
   "source": [
    "accuracy_score(y_test,predictions)"
   ]
  },
  {
   "cell_type": "code",
   "execution_count": 0,
   "metadata": {
    "colab": {
     "base_uri": "https://localhost:8080/",
     "height": 68
    },
    "colab_type": "code",
    "id": "_urCLEV9c-r9",
    "outputId": "80302a7d-94bd-4485-f657-beaeedbf7d9a"
   },
   "outputs": [
    {
     "data": {
      "text/plain": [
       "array([[ 90, 110,  82],\n",
       "       [ 64, 267, 309],\n",
       "       [ 31, 171, 667]])"
      ]
     },
     "execution_count": 47,
     "metadata": {
      "tags": []
     },
     "output_type": "execute_result"
    }
   ],
   "source": [
    "confusion_matrix(y_test,predictions)"
   ]
  },
  {
   "cell_type": "markdown",
   "metadata": {
    "colab_type": "text",
    "id": "UfgS-miZd-9q"
   },
   "source": [
    "# Above comparison tells that SVC model is able to achieve 57 % accuracy and Lexicon able to get 48 %"
   ]
  },
  {
   "cell_type": "markdown",
   "metadata": {
    "colab_type": "text",
    "id": "FJNlGgi2ekkr"
   },
   "source": [
    "# Now Let us build other models by using Affin Lexicon model"
   ]
  },
  {
   "cell_type": "code",
   "execution_count": 0,
   "metadata": {
    "colab": {},
    "colab_type": "code",
    "collapsed": true,
    "id": "dn7cdf35ex-L"
   },
   "outputs": [],
   "source": [
    "downloaded = drive.CreateFile({'id':id}) \n",
    "downloaded.GetContentFile('Tweet1.csv')  \n",
    "df1 = pd.read_csv('Tweet1.csv')"
   ]
  },
  {
   "cell_type": "code",
   "execution_count": 0,
   "metadata": {
    "colab": {
     "base_uri": "https://localhost:8080/",
     "height": 204
    },
    "colab_type": "code",
    "id": "5kQ0_uu7hxgn",
    "outputId": "5df47e9c-d2a8-4450-d10b-bdb22ebd3de2"
   },
   "outputs": [
    {
     "data": {
      "text/html": [
       "<div>\n",
       "<style scoped>\n",
       "    .dataframe tbody tr th:only-of-type {\n",
       "        vertical-align: middle;\n",
       "    }\n",
       "\n",
       "    .dataframe tbody tr th {\n",
       "        vertical-align: top;\n",
       "    }\n",
       "\n",
       "    .dataframe thead th {\n",
       "        text-align: right;\n",
       "    }\n",
       "</style>\n",
       "<table border=\"1\" class=\"dataframe\">\n",
       "  <thead>\n",
       "    <tr style=\"text-align: right;\">\n",
       "      <th></th>\n",
       "      <th>Tweet</th>\n",
       "      <th>Category</th>\n",
       "    </tr>\n",
       "  </thead>\n",
       "  <tbody>\n",
       "    <tr>\n",
       "      <th>0</th>\n",
       "      <td>Not Available</td>\n",
       "      <td>negative</td>\n",
       "    </tr>\n",
       "    <tr>\n",
       "      <th>1</th>\n",
       "      <td>IOS 9 App Transport Security. Mm need to check...</td>\n",
       "      <td>neutral</td>\n",
       "    </tr>\n",
       "    <tr>\n",
       "      <th>2</th>\n",
       "      <td>Mar if you have an iOS device, you should down...</td>\n",
       "      <td>neutral</td>\n",
       "    </tr>\n",
       "    <tr>\n",
       "      <th>3</th>\n",
       "      <td>@jimmie_vanagon my phone does not run on lates...</td>\n",
       "      <td>negative</td>\n",
       "    </tr>\n",
       "    <tr>\n",
       "      <th>4</th>\n",
       "      <td>Not sure how to start your publication on iOS?...</td>\n",
       "      <td>positive</td>\n",
       "    </tr>\n",
       "  </tbody>\n",
       "</table>\n",
       "</div>"
      ],
      "text/plain": [
       "                                               Tweet  Category\n",
       "0                                      Not Available  negative\n",
       "1  IOS 9 App Transport Security. Mm need to check...   neutral\n",
       "2  Mar if you have an iOS device, you should down...   neutral\n",
       "3  @jimmie_vanagon my phone does not run on lates...  negative\n",
       "4  Not sure how to start your publication on iOS?...  positive"
      ]
     },
     "execution_count": 49,
     "metadata": {
      "tags": []
     },
     "output_type": "execute_result"
    }
   ],
   "source": [
    "df1.head()"
   ]
  },
  {
   "cell_type": "code",
   "execution_count": 0,
   "metadata": {
    "colab": {
     "base_uri": "https://localhost:8080/",
     "height": 187
    },
    "colab_type": "code",
    "id": "QAZjTWEkhzax",
    "outputId": "9590b8b9-6e39-4c5f-b167-9f9dea5dc092"
   },
   "outputs": [
    {
     "name": "stdout",
     "output_type": "stream",
     "text": [
      "Collecting afinn\n",
      "\u001b[?25l  Downloading https://files.pythonhosted.org/packages/86/e5/ffbb7ee3cca21ac6d310ac01944fb163c20030b45bda25421d725d8a859a/afinn-0.1.tar.gz (52kB)\n",
      "\r",
      "\u001b[K     |██████▎                         | 10kB 16.1MB/s eta 0:00:01\r",
      "\u001b[K     |████████████▌                   | 20kB 1.8MB/s eta 0:00:01\r",
      "\u001b[K     |██████████████████▊             | 30kB 2.6MB/s eta 0:00:01\r",
      "\u001b[K     |█████████████████████████       | 40kB 1.7MB/s eta 0:00:01\r",
      "\u001b[K     |███████████████████████████████▏| 51kB 2.1MB/s eta 0:00:01\r",
      "\u001b[K     |████████████████████████████████| 61kB 2.4MB/s \n",
      "\u001b[?25hBuilding wheels for collected packages: afinn\n",
      "  Building wheel for afinn (setup.py) ... \u001b[?25l\u001b[?25hdone\n",
      "  Created wheel for afinn: filename=afinn-0.1-cp36-none-any.whl size=53453 sha256=403b9b0bef48b344f33dff0294e5db8a60a49c5f4ea6219f9f4f44f3d1a964c6\n",
      "  Stored in directory: /root/.cache/pip/wheels/b5/1c/de/428301f3333ca509dcf20ff358690eb23a1388fbcbbde008b2\n",
      "Successfully built afinn\n",
      "Installing collected packages: afinn\n",
      "Successfully installed afinn-0.1\n"
     ]
    }
   ],
   "source": [
    "pip install afinn\n"
   ]
  },
  {
   "cell_type": "code",
   "execution_count": 0,
   "metadata": {
    "colab": {},
    "colab_type": "code",
    "collapsed": true,
    "id": "P0qEWEgUjbkg"
   },
   "outputs": [],
   "source": [
    "from afinn import Afinn\n",
    "affin = Afinn()"
   ]
  },
  {
   "cell_type": "code",
   "execution_count": 0,
   "metadata": {
    "colab": {},
    "colab_type": "code",
    "collapsed": true,
    "id": "dKySEer4jfvV"
   },
   "outputs": [],
   "source": [
    "afinn_scores = [affin.score(Tweet) for Tweet in df1.Tweet]"
   ]
  },
  {
   "cell_type": "code",
   "execution_count": 0,
   "metadata": {
    "colab": {},
    "colab_type": "code",
    "collapsed": true,
    "id": "BRDbWwJ3kMHF"
   },
   "outputs": [],
   "source": [
    "df1['afinn'] = afinn_scores"
   ]
  },
  {
   "cell_type": "code",
   "execution_count": 0,
   "metadata": {
    "colab": {
     "base_uri": "https://localhost:8080/",
     "height": 359
    },
    "colab_type": "code",
    "id": "Yw-VRozykd4T",
    "outputId": "9b21d37a-675c-46e6-989a-6a347bdf2fd4"
   },
   "outputs": [
    {
     "data": {
      "text/html": [
       "<div>\n",
       "<style scoped>\n",
       "    .dataframe tbody tr th:only-of-type {\n",
       "        vertical-align: middle;\n",
       "    }\n",
       "\n",
       "    .dataframe tbody tr th {\n",
       "        vertical-align: top;\n",
       "    }\n",
       "\n",
       "    .dataframe thead th {\n",
       "        text-align: right;\n",
       "    }\n",
       "</style>\n",
       "<table border=\"1\" class=\"dataframe\">\n",
       "  <thead>\n",
       "    <tr style=\"text-align: right;\">\n",
       "      <th></th>\n",
       "      <th>Tweet</th>\n",
       "      <th>Category</th>\n",
       "      <th>afinn</th>\n",
       "    </tr>\n",
       "  </thead>\n",
       "  <tbody>\n",
       "    <tr>\n",
       "      <th>0</th>\n",
       "      <td>Not Available</td>\n",
       "      <td>negative</td>\n",
       "      <td>0.0</td>\n",
       "    </tr>\n",
       "    <tr>\n",
       "      <th>1</th>\n",
       "      <td>IOS 9 App Transport Security. Mm need to check...</td>\n",
       "      <td>neutral</td>\n",
       "      <td>2.0</td>\n",
       "    </tr>\n",
       "    <tr>\n",
       "      <th>2</th>\n",
       "      <td>Mar if you have an iOS device, you should down...</td>\n",
       "      <td>neutral</td>\n",
       "      <td>0.0</td>\n",
       "    </tr>\n",
       "    <tr>\n",
       "      <th>3</th>\n",
       "      <td>@jimmie_vanagon my phone does not run on lates...</td>\n",
       "      <td>negative</td>\n",
       "      <td>-2.0</td>\n",
       "    </tr>\n",
       "    <tr>\n",
       "      <th>4</th>\n",
       "      <td>Not sure how to start your publication on iOS?...</td>\n",
       "      <td>positive</td>\n",
       "      <td>2.0</td>\n",
       "    </tr>\n",
       "    <tr>\n",
       "      <th>5</th>\n",
       "      <td>Two Dollar Tuesday is here with Forklift 2, Qu...</td>\n",
       "      <td>neutral</td>\n",
       "      <td>0.0</td>\n",
       "    </tr>\n",
       "    <tr>\n",
       "      <th>6</th>\n",
       "      <td>If you're not already signed up to test my iOS...</td>\n",
       "      <td>neutral</td>\n",
       "      <td>2.0</td>\n",
       "    </tr>\n",
       "    <tr>\n",
       "      <th>7</th>\n",
       "      <td>YouTube Gaming Officially Launches On Web, And...</td>\n",
       "      <td>neutral</td>\n",
       "      <td>0.0</td>\n",
       "    </tr>\n",
       "    <tr>\n",
       "      <th>8</th>\n",
       "      <td>YouTube Gaming Launches Tomorrow with iOS and ...</td>\n",
       "      <td>neutral</td>\n",
       "      <td>0.0</td>\n",
       "    </tr>\n",
       "    <tr>\n",
       "      <th>9</th>\n",
       "      <td>@astrill Yashan from BBC @bbcchinese the VPN a...</td>\n",
       "      <td>neutral</td>\n",
       "      <td>1.0</td>\n",
       "    </tr>\n",
       "  </tbody>\n",
       "</table>\n",
       "</div>"
      ],
      "text/plain": [
       "                                               Tweet  Category  afinn\n",
       "0                                      Not Available  negative    0.0\n",
       "1  IOS 9 App Transport Security. Mm need to check...   neutral    2.0\n",
       "2  Mar if you have an iOS device, you should down...   neutral    0.0\n",
       "3  @jimmie_vanagon my phone does not run on lates...  negative   -2.0\n",
       "4  Not sure how to start your publication on iOS?...  positive    2.0\n",
       "5  Two Dollar Tuesday is here with Forklift 2, Qu...   neutral    0.0\n",
       "6  If you're not already signed up to test my iOS...   neutral    2.0\n",
       "7  YouTube Gaming Officially Launches On Web, And...   neutral    0.0\n",
       "8  YouTube Gaming Launches Tomorrow with iOS and ...   neutral    0.0\n",
       "9  @astrill Yashan from BBC @bbcchinese the VPN a...   neutral    1.0"
      ]
     },
     "execution_count": 56,
     "metadata": {
      "tags": []
     },
     "output_type": "execute_result"
    }
   ],
   "source": [
    "df1.head(10)"
   ]
  },
  {
   "cell_type": "code",
   "execution_count": 0,
   "metadata": {
    "colab": {},
    "colab_type": "code",
    "collapsed": true,
    "id": "4Z5uM-KvkxVk"
   },
   "outputs": [],
   "source": [
    "df1['Affin_acore'] = df1['afinn'].apply(lambda score: 'positive' if score > 0 else ('neutral' if score == 0 else 'negative'))"
   ]
  },
  {
   "cell_type": "code",
   "execution_count": 0,
   "metadata": {
    "colab": {
     "base_uri": "https://localhost:8080/",
     "height": 204
    },
    "colab_type": "code",
    "id": "PPnT2a6Rk_Na",
    "outputId": "b7f92f45-b34b-4737-9646-9da0dffb1c00"
   },
   "outputs": [
    {
     "data": {
      "text/html": [
       "<div>\n",
       "<style scoped>\n",
       "    .dataframe tbody tr th:only-of-type {\n",
       "        vertical-align: middle;\n",
       "    }\n",
       "\n",
       "    .dataframe tbody tr th {\n",
       "        vertical-align: top;\n",
       "    }\n",
       "\n",
       "    .dataframe thead th {\n",
       "        text-align: right;\n",
       "    }\n",
       "</style>\n",
       "<table border=\"1\" class=\"dataframe\">\n",
       "  <thead>\n",
       "    <tr style=\"text-align: right;\">\n",
       "      <th></th>\n",
       "      <th>Tweet</th>\n",
       "      <th>Category</th>\n",
       "      <th>afinn</th>\n",
       "      <th>Affin_acore</th>\n",
       "    </tr>\n",
       "  </thead>\n",
       "  <tbody>\n",
       "    <tr>\n",
       "      <th>0</th>\n",
       "      <td>Not Available</td>\n",
       "      <td>negative</td>\n",
       "      <td>0.0</td>\n",
       "      <td>neutral</td>\n",
       "    </tr>\n",
       "    <tr>\n",
       "      <th>1</th>\n",
       "      <td>IOS 9 App Transport Security. Mm need to check...</td>\n",
       "      <td>neutral</td>\n",
       "      <td>2.0</td>\n",
       "      <td>positive</td>\n",
       "    </tr>\n",
       "    <tr>\n",
       "      <th>2</th>\n",
       "      <td>Mar if you have an iOS device, you should down...</td>\n",
       "      <td>neutral</td>\n",
       "      <td>0.0</td>\n",
       "      <td>neutral</td>\n",
       "    </tr>\n",
       "    <tr>\n",
       "      <th>3</th>\n",
       "      <td>@jimmie_vanagon my phone does not run on lates...</td>\n",
       "      <td>negative</td>\n",
       "      <td>-2.0</td>\n",
       "      <td>negative</td>\n",
       "    </tr>\n",
       "    <tr>\n",
       "      <th>4</th>\n",
       "      <td>Not sure how to start your publication on iOS?...</td>\n",
       "      <td>positive</td>\n",
       "      <td>2.0</td>\n",
       "      <td>positive</td>\n",
       "    </tr>\n",
       "  </tbody>\n",
       "</table>\n",
       "</div>"
      ],
      "text/plain": [
       "                                               Tweet  ... Affin_acore\n",
       "0                                      Not Available  ...     neutral\n",
       "1  IOS 9 App Transport Security. Mm need to check...  ...    positive\n",
       "2  Mar if you have an iOS device, you should down...  ...     neutral\n",
       "3  @jimmie_vanagon my phone does not run on lates...  ...    negative\n",
       "4  Not sure how to start your publication on iOS?...  ...    positive\n",
       "\n",
       "[5 rows x 4 columns]"
      ]
     },
     "execution_count": 58,
     "metadata": {
      "tags": []
     },
     "output_type": "execute_result"
    }
   ],
   "source": [
    "df1.head()"
   ]
  },
  {
   "cell_type": "code",
   "execution_count": 0,
   "metadata": {
    "colab": {
     "base_uri": "https://localhost:8080/",
     "height": 34
    },
    "colab_type": "code",
    "id": "JQJqiRrtlBhY",
    "outputId": "f685fdf2-2e76-4a96-8ab9-f2f693c9c491"
   },
   "outputs": [
    {
     "data": {
      "text/plain": [
       "0.4767890062007709"
      ]
     },
     "execution_count": 59,
     "metadata": {
      "tags": []
     },
     "output_type": "execute_result"
    }
   ],
   "source": [
    "accuracy_score(df1['Category'],df1['Affin_acore'])"
   ]
  },
  {
   "cell_type": "markdown",
   "metadata": {
    "colab_type": "text",
    "id": "iqbPkGyRlcJa"
   },
   "source": [
    "# The Affin based lexicon algorithm also provide only 48 % accuarcy "
   ]
  },
  {
   "cell_type": "code",
   "execution_count": null,
   "metadata": {
    "collapsed": true
   },
   "outputs": [],
   "source": []
  }
 ],
 "metadata": {
  "colab": {
   "collapsed_sections": [],
   "name": "Sentiment Detection in Tweets Assignment 2.ipynb",
   "provenance": [],
   "version": "0.3.2"
  },
  "kernelspec": {
   "display_name": "Python 3",
   "language": "python",
   "name": "python3"
  },
  "language_info": {
   "codemirror_mode": {
    "name": "ipython",
    "version": 3
   },
   "file_extension": ".py",
   "mimetype": "text/x-python",
   "name": "python",
   "nbconvert_exporter": "python",
   "pygments_lexer": "ipython3",
   "version": "3.6.8"
  }
 },
 "nbformat": 4,
 "nbformat_minor": 1
}
